{
 "cells": [
  {
   "cell_type": "code",
   "execution_count": 1,
   "id": "64e7f1d4-a468-4a95-a144-fb904de3c19b",
   "metadata": {},
   "outputs": [],
   "source": [
    "import os\n",
    "import findspark\n",
    "\n",
    "# ✅ Correct your paths here:\n",
    "os.environ[\"JAVA_HOME\"] = r\"C:\\Program Files\\Eclipse Adoptium\\jdk-11.0.27.6-hotspot\"\n",
    "os.environ[\"SPARK_HOME\"] = r\"C:\\spark-3.5.6-bin-hadoop3\"\n",
    "\n",
    "findspark.init()\n"
   ]
  },
  {
   "cell_type": "code",
   "execution_count": 2,
   "id": "db08259c-2ccd-407c-a671-4fef91871e52",
   "metadata": {},
   "outputs": [],
   "source": [
    "from pyspark.sql import SparkSession"
   ]
  },
  {
   "cell_type": "code",
   "execution_count": 3,
   "id": "c01139d3-431e-40c3-843c-8d743ce1d679",
   "metadata": {},
   "outputs": [],
   "source": [
    "spark = SparkSession.builder.appName(\"Healthanalysis\").getOrCreate()"
   ]
  },
  {
   "cell_type": "code",
   "execution_count": 4,
   "id": "ea5f81df-df93-4b7c-af4e-c61074128f96",
   "metadata": {},
   "outputs": [
    {
     "name": "stdout",
     "output_type": "stream",
     "text": [
      "+------------+------+--------+---------+----+------+------+--------------------+------------+------+-------+-----------------+-------------+-----------+-------+--------+--------+--------+------+----+---------+------+\n",
      "|Diabetes_012|HighBP|HighChol|CholCheck| BMI|Smoker|Stroke|HeartDiseaseorAttack|PhysActivity|Fruits|Veggies|HvyAlcoholConsump|AnyHealthcare|NoDocbcCost|GenHlth|MentHlth|PhysHlth|DiffWalk|   Sex| Age|Education|Income|\n",
      "+------------+------+--------+---------+----+------+------+--------------------+------------+------+-------+-----------------+-------------+-----------+-------+--------+--------+--------+------+----+---------+------+\n",
      "|         0.0|   1.0|     1.0|      1.0|40.0|   1.0|   0.0|                 0.0|         0.0|   0.0|    1.0|              0.0|          1.0|        0.0|    5.0|    18.0|    15.0|     1.0|Female| 9.0|      4.0|   3.0|\n",
      "|         0.0|   0.0|     0.0|      0.0|25.0|   1.0|   0.0|                 0.0|         1.0|   0.0|    0.0|              0.0|          0.0|        1.0|    3.0|     0.0|     0.0|     0.0|Female| 7.0|      6.0|   1.0|\n",
      "|         0.0|   1.0|     1.0|      1.0|28.0|   0.0|   0.0|                 0.0|         0.0|   1.0|    0.0|              0.0|          1.0|        1.0|    5.0|    30.0|    30.0|     1.0|Female| 9.0|      4.0|   8.0|\n",
      "|         0.0|   1.0|     0.0|      1.0|27.0|   0.0|   0.0|                 0.0|         1.0|   1.0|    1.0|              0.0|          1.0|        0.0|    2.0|     0.0|     0.0|     0.0|Female|11.0|      3.0|   6.0|\n",
      "|         0.0|   1.0|     1.0|      1.0|24.0|   0.0|   0.0|                 0.0|         1.0|   1.0|    1.0|              0.0|          1.0|        0.0|    2.0|     3.0|     0.0|     0.0|Female|11.0|      5.0|   4.0|\n",
      "+------------+------+--------+---------+----+------+------+--------------------+------------+------+-------+-----------------+-------------+-----------+-------+--------+--------+--------+------+----+---------+------+\n",
      "only showing top 5 rows\n",
      "\n"
     ]
    }
   ],
   "source": [
    "data_path = \"C:/Users/samin/Desktop/bigdata/data.csv\"\n",
    "df = spark.read.csv(data_path, header=True, inferSchema=True)\n",
    "df.show(5)"
   ]
  },
  {
   "cell_type": "code",
   "execution_count": null,
   "id": "13bc47c5-5347-410c-a6b2-f7f3390c0465",
   "metadata": {},
   "outputs": [],
   "source": []
  },
  {
   "cell_type": "code",
   "execution_count": 5,
   "id": "4d0bfeac-8c1a-4dde-a8c0-521c69c600d4",
   "metadata": {},
   "outputs": [],
   "source": [
    "df_clean = df.dropna()"
   ]
  },
  {
   "cell_type": "code",
   "execution_count": 6,
   "id": "8c31dda4-3347-4336-a1a1-33151f832c94",
   "metadata": {},
   "outputs": [
    {
     "data": {
      "text/plain": [
       "DataFrame[Diabetes_012: double, HighBP: double, HighChol: double, CholCheck: double, BMI: double, Smoker: double, Stroke: double, HeartDiseaseorAttack: double, PhysActivity: double, Fruits: double, Veggies: double, HvyAlcoholConsump: double, AnyHealthcare: double, NoDocbcCost: double, GenHlth: double, MentHlth: double, PhysHlth: double, DiffWalk: double, Sex: string, Age: double, Education: double, Income: double]"
      ]
     },
     "execution_count": 6,
     "metadata": {},
     "output_type": "execute_result"
    }
   ],
   "source": [
    "df"
   ]
  },
  {
   "cell_type": "code",
   "execution_count": 7,
   "id": "739465b4-2f10-488d-be34-e0765aa94908",
   "metadata": {},
   "outputs": [
    {
     "data": {
      "text/plain": [
       "['Diabetes_012',\n",
       " 'HighBP',\n",
       " 'HighChol',\n",
       " 'CholCheck',\n",
       " 'BMI',\n",
       " 'Smoker',\n",
       " 'Stroke',\n",
       " 'HeartDiseaseorAttack',\n",
       " 'PhysActivity',\n",
       " 'Fruits',\n",
       " 'Veggies',\n",
       " 'HvyAlcoholConsump',\n",
       " 'AnyHealthcare',\n",
       " 'NoDocbcCost',\n",
       " 'GenHlth',\n",
       " 'MentHlth',\n",
       " 'PhysHlth',\n",
       " 'DiffWalk',\n",
       " 'Sex',\n",
       " 'Age',\n",
       " 'Education',\n",
       " 'Income']"
      ]
     },
     "execution_count": 7,
     "metadata": {},
     "output_type": "execute_result"
    }
   ],
   "source": [
    "df.columns"
   ]
  },
  {
   "cell_type": "code",
   "execution_count": 8,
   "id": "79b1203d-582b-4621-bbb4-3700bb66b83c",
   "metadata": {},
   "outputs": [
    {
     "name": "stdout",
     "output_type": "stream",
     "text": [
      "+-------+-------------------+-------------------+-------------------+-------------------+------------------+-------------------+-------------------+--------------------+------------------+------------------+-------------------+-------------------+------------------+-------------------+------------------+------------------+------------------+-------------------+------+-----------------+------------------+------------------+\n",
      "|summary|       Diabetes_012|             HighBP|           HighChol|          CholCheck|               BMI|             Smoker|             Stroke|HeartDiseaseorAttack|      PhysActivity|            Fruits|            Veggies|  HvyAlcoholConsump|     AnyHealthcare|        NoDocbcCost|           GenHlth|          MentHlth|          PhysHlth|           DiffWalk|   Sex|              Age|         Education|            Income|\n",
      "+-------+-------------------+-------------------+-------------------+-------------------+------------------+-------------------+-------------------+--------------------+------------------+------------------+-------------------+-------------------+------------------+-------------------+------------------+------------------+------------------+-------------------+------+-----------------+------------------+------------------+\n",
      "|  count|             253680|             253680|             253680|             253680|            253680|             253680|             253680|              253680|            253680|            253680|             253680|             253680|            253680|             253680|            253680|            253680|            253680|             253680|253680|           253680|            253680|            253680|\n",
      "|   mean|0.29692131819615264| 0.4290011037527594| 0.4241209397666351| 0.9626695048880479|28.382363607694735|0.44316855881425415|0.04057079785556607| 0.09418558814254178|0.7565436770734784|0.6342557552822453|  0.811419899085462|0.05619678334910123|0.9510525070955534|0.08417691579943236|2.5113923052664773|3.1847721538946705|4.2420805739514345|0.16822374645222327|  NULL|8.032119205298013| 5.050433617155472| 6.053874960580258|\n",
      "| stddev| 0.6981597284091023|0.49493446268990265|0.49420980465688513|0.18957075436272544| 6.608694201406023|0.49676066677856406|0.19729409940016285| 0.29208731475075506|0.4291690433970467|0.4816391871704334|0.39117547168449057|0.23030178889522895| 0.215758706310739|0.27765350085762497|1.0684773622803918| 7.412846696196174| 8.717951307175149| 0.3740655947328033|  NULL|3.054220434168483|0.9857741757276512|2.0711475662715197|\n",
      "|    min|                0.0|                0.0|                0.0|                0.0|              12.0|                0.0|                0.0|                 0.0|               0.0|               0.0|                0.0|                0.0|               0.0|                0.0|               1.0|               0.0|               0.0|                0.0|Female|              1.0|               1.0|               1.0|\n",
      "|    max|                2.0|                1.0|                1.0|                1.0|              98.0|                1.0|                1.0|                 1.0|               1.0|               1.0|                1.0|                1.0|               1.0|                1.0|               5.0|              30.0|              30.0|                1.0|  Male|             13.0|               6.0|               8.0|\n",
      "+-------+-------------------+-------------------+-------------------+-------------------+------------------+-------------------+-------------------+--------------------+------------------+------------------+-------------------+-------------------+------------------+-------------------+------------------+------------------+------------------+-------------------+------+-----------------+------------------+------------------+\n",
      "\n"
     ]
    }
   ],
   "source": [
    "df.describe().show()"
   ]
  },
  {
   "cell_type": "code",
   "execution_count": 9,
   "id": "19f8f9c4-65ef-4558-a13d-7d73ab55bbfc",
   "metadata": {},
   "outputs": [
    {
     "name": "stdout",
     "output_type": "stream",
     "text": [
      "root\n",
      " |-- Diabetes_012: double (nullable = true)\n",
      " |-- HighBP: double (nullable = true)\n",
      " |-- HighChol: double (nullable = true)\n",
      " |-- CholCheck: double (nullable = true)\n",
      " |-- BMI: double (nullable = true)\n",
      " |-- Smoker: double (nullable = true)\n",
      " |-- Stroke: double (nullable = true)\n",
      " |-- HeartDiseaseorAttack: double (nullable = true)\n",
      " |-- PhysActivity: double (nullable = true)\n",
      " |-- Fruits: double (nullable = true)\n",
      " |-- Veggies: double (nullable = true)\n",
      " |-- HvyAlcoholConsump: double (nullable = true)\n",
      " |-- AnyHealthcare: double (nullable = true)\n",
      " |-- NoDocbcCost: double (nullable = true)\n",
      " |-- GenHlth: double (nullable = true)\n",
      " |-- MentHlth: double (nullable = true)\n",
      " |-- PhysHlth: double (nullable = true)\n",
      " |-- DiffWalk: double (nullable = true)\n",
      " |-- Sex: string (nullable = true)\n",
      " |-- Age: double (nullable = true)\n",
      " |-- Education: double (nullable = true)\n",
      " |-- Income: double (nullable = true)\n",
      "\n"
     ]
    }
   ],
   "source": [
    "df.printSchema()"
   ]
  },
  {
   "cell_type": "code",
   "execution_count": 10,
   "id": "09cee73d-3853-4eb5-b5b7-fd59a0825bfb",
   "metadata": {},
   "outputs": [],
   "source": [
    "df.createOrReplaceTempView(\"health\")"
   ]
  },
  {
   "cell_type": "code",
   "execution_count": 11,
   "id": "ef05a5a2-8183-4370-9997-87210ad6b45a",
   "metadata": {},
   "outputs": [
    {
     "name": "stdout",
     "output_type": "stream",
     "text": [
      "+---------+------+---------+\n",
      "|Education|AvgBMI|AvgIncome|\n",
      "+---------+------+---------+\n",
      "|      1.0| 29.76|     3.77|\n",
      "|      3.0| 29.64|     3.77|\n",
      "|      2.0| 29.45|     3.29|\n",
      "|      4.0| 29.04|     5.19|\n",
      "|      5.0| 28.88|     5.88|\n",
      "|      6.0| 27.52|     6.98|\n",
      "+---------+------+---------+\n",
      "\n"
     ]
    }
   ],
   "source": [
    "avg_bmi_income_by_education = spark.sql(\"\"\"\n",
    "    SELECT \n",
    "        Education, \n",
    "        ROUND(AVG(BMI), 2) AS AvgBMI, \n",
    "        ROUND(AVG(Income), 2) AS AvgIncome\n",
    "    FROM health\n",
    "    GROUP BY Education\n",
    "    ORDER BY AvgBMI DESC\n",
    "\"\"\")\n",
    "avg_bmi_income_by_education.show()\n"
   ]
  },
  {
   "cell_type": "code",
   "execution_count": 12,
   "id": "de7169fb-3ff5-4652-a6c5-18c314b635d1",
   "metadata": {},
   "outputs": [
    {
     "name": "stdout",
     "output_type": "stream",
     "text": [
      "+----+-----+\n",
      "| Age|Count|\n",
      "+----+-----+\n",
      "| 1.0|   21|\n",
      "| 2.0|   29|\n",
      "| 3.0|   83|\n",
      "| 4.0|  137|\n",
      "| 5.0|  229|\n",
      "| 6.0|  368|\n",
      "| 7.0|  722|\n",
      "| 8.0| 1085|\n",
      "| 9.0| 1414|\n",
      "|10.0| 1620|\n",
      "|11.0| 1557|\n",
      "|12.0| 1291|\n",
      "|13.0| 1736|\n",
      "+----+-----+\n",
      "\n"
     ]
    }
   ],
   "source": [
    "stroke_by_age = spark.sql(\"\"\"\n",
    "    SELECT \n",
    "        Age, \n",
    "        COUNT(*) AS Count\n",
    "    FROM health\n",
    "    WHERE Stroke = 1\n",
    "    GROUP BY Age\n",
    "    ORDER BY Age\n",
    "\"\"\")\n",
    "\n",
    "stroke_by_age.show()"
   ]
  },
  {
   "cell_type": "code",
   "execution_count": 13,
   "id": "8e7540da-deb2-447d-973d-b2e7aae48d5f",
   "metadata": {},
   "outputs": [],
   "source": [
    "from pyspark.sql.functions import col, isnan, when, count"
   ]
  },
  {
   "cell_type": "code",
   "execution_count": 14,
   "id": "2e8bbd4d-e40a-4003-b426-bcc19ffc6e3b",
   "metadata": {},
   "outputs": [
    {
     "name": "stdout",
     "output_type": "stream",
     "text": [
      "+------------+------+--------+---------+---+------+------+--------------------+------------+------+-------+-----------------+-------------+-----------+-------+--------+--------+--------+---+---+---------+------+\n",
      "|Diabetes_012|HighBP|HighChol|CholCheck|BMI|Smoker|Stroke|HeartDiseaseorAttack|PhysActivity|Fruits|Veggies|HvyAlcoholConsump|AnyHealthcare|NoDocbcCost|GenHlth|MentHlth|PhysHlth|DiffWalk|Sex|Age|Education|Income|\n",
      "+------------+------+--------+---------+---+------+------+--------------------+------------+------+-------+-----------------+-------------+-----------+-------+--------+--------+--------+---+---+---------+------+\n",
      "|           0|     0|       0|        0|  0|     0|     0|                   0|           0|     0|      0|                0|            0|          0|      0|       0|       0|       0|  0|  0|        0|     0|\n",
      "+------------+------+--------+---------+---+------+------+--------------------+------------+------+-------+-----------------+-------------+-----------+-------+--------+--------+--------+---+---+---------+------+\n",
      "\n"
     ]
    }
   ],
   "source": [
    "df.select([count(when(col(c).isNull(), c)).alias(c) for c in df.columns]).show()"
   ]
  },
  {
   "cell_type": "code",
   "execution_count": 15,
   "id": "b632a1ad-3aaf-4d44-9d41-9c51a6ab7f7d",
   "metadata": {},
   "outputs": [],
   "source": [
    "df_with_label = df.withColumn(\"label\", when(df[\"Diabetes_012\"] == 2.0, 1.0).otherwise(0.0))"
   ]
  },
  {
   "cell_type": "code",
   "execution_count": 16,
   "id": "ef95fab0-25a5-4881-a125-a6334e404279",
   "metadata": {},
   "outputs": [],
   "source": [
    "df_with_label.createOrReplaceTempView(\"health\")"
   ]
  },
  {
   "cell_type": "code",
   "execution_count": 17,
   "id": "bb49ca02-9c64-4f71-bafe-67b192c6b542",
   "metadata": {},
   "outputs": [
    {
     "name": "stdout",
     "output_type": "stream",
     "text": [
      "Correlation between CholCheck and heavyAlcohol consumption : -0.02373009065481386\n"
     ]
    }
   ],
   "source": [
    "correlation = df.stat.corr(\"CholCheck\", \"HvyAlcoholConsump\")\n",
    "print(\"Correlation between CholCheck and heavyAlcohol consumption :\", correlation)"
   ]
  },
  {
   "cell_type": "code",
   "execution_count": 18,
   "id": "8f832a81-af74-4f1c-be82-8d91ea348adc",
   "metadata": {},
   "outputs": [
    {
     "name": "stdout",
     "output_type": "stream",
     "text": [
      "+------+------+-------+------+\n",
      "|HighBP|Smoker|AvgRisk|People|\n",
      "+------+------+-------+------+\n",
      "|   1.0|   1.0|  0.257| 54279|\n",
      "|   1.0|   0.0|  0.232| 54550|\n",
      "|   0.0|   1.0|  0.075| 58144|\n",
      "|   0.0|   0.0|   0.05| 86707|\n",
      "+------+------+-------+------+\n",
      "\n"
     ]
    }
   ],
   "source": [
    "high_risk_groups = spark.sql(\"\"\"\n",
    "    SELECT \n",
    "        HighBP,\n",
    "        Smoker,\n",
    "        ROUND(AVG(label), 3) AS AvgRisk,\n",
    "        COUNT(*) AS People\n",
    "    FROM health\n",
    "    GROUP BY HighBP, Smoker\n",
    "    ORDER BY AvgRisk DESC\n",
    "\"\"\")\n",
    "high_risk_groups.show()"
   ]
  },
  {
   "cell_type": "code",
   "execution_count": 19,
   "id": "8e9465fd-2bb1-4248-a343-f6a2a43c7e4b",
   "metadata": {},
   "outputs": [],
   "source": [
    "df = df.na.fill({'Fruits':0, 'DiffWalk': 0})"
   ]
  },
  {
   "cell_type": "code",
   "execution_count": 20,
   "id": "df315887-6866-47b9-8f0e-bac7c2a5af9d",
   "metadata": {},
   "outputs": [
    {
     "name": "stdout",
     "output_type": "stream",
     "text": [
      "+------------+------+--------+---------+----+------+------+--------------------+------------+------+-------+-----------------+-------------+-----------+-------+--------+--------+--------+------+----+---------+------+\n",
      "|Diabetes_012|HighBP|HighChol|CholCheck| BMI|Smoker|Stroke|HeartDiseaseorAttack|PhysActivity|Fruits|Veggies|HvyAlcoholConsump|AnyHealthcare|NoDocbcCost|GenHlth|MentHlth|PhysHlth|DiffWalk|   Sex| Age|Education|Income|\n",
      "+------------+------+--------+---------+----+------+------+--------------------+------------+------+-------+-----------------+-------------+-----------+-------+--------+--------+--------+------+----+---------+------+\n",
      "|         0.0|   1.0|     1.0|      1.0|40.0|   1.0|   0.0|                 0.0|         0.0|   0.0|    1.0|              0.0|          1.0|        0.0|    5.0|    18.0|    15.0|     1.0|Female| 9.0|      4.0|   3.0|\n",
      "|         0.0|   0.0|     0.0|      0.0|25.0|   1.0|   0.0|                 0.0|         1.0|   0.0|    0.0|              0.0|          0.0|        1.0|    3.0|     0.0|     0.0|     0.0|Female| 7.0|      6.0|   1.0|\n",
      "|         0.0|   1.0|     1.0|      1.0|28.0|   0.0|   0.0|                 0.0|         0.0|   1.0|    0.0|              0.0|          1.0|        1.0|    5.0|    30.0|    30.0|     1.0|Female| 9.0|      4.0|   8.0|\n",
      "|         0.0|   1.0|     0.0|      1.0|27.0|   0.0|   0.0|                 0.0|         1.0|   1.0|    1.0|              0.0|          1.0|        0.0|    2.0|     0.0|     0.0|     0.0|Female|11.0|      3.0|   6.0|\n",
      "|         0.0|   1.0|     1.0|      1.0|24.0|   0.0|   0.0|                 0.0|         1.0|   1.0|    1.0|              0.0|          1.0|        0.0|    2.0|     3.0|     0.0|     0.0|Female|11.0|      5.0|   4.0|\n",
      "+------------+------+--------+---------+----+------+------+--------------------+------------+------+-------+-----------------+-------------+-----------+-------+--------+--------+--------+------+----+---------+------+\n",
      "only showing top 5 rows\n",
      "\n"
     ]
    }
   ],
   "source": [
    "df.show(5)"
   ]
  },
  {
   "cell_type": "code",
   "execution_count": 21,
   "id": "d8eb83ca-f05e-4212-8c1f-aa988acea788",
   "metadata": {},
   "outputs": [],
   "source": [
    "from pyspark.ml.feature import StringIndexer, OneHotEncoder, VectorAssembler\n",
    "from pyspark.ml.classification import RandomForestClassifier\n",
    "from pyspark.ml.evaluation import BinaryClassificationEvaluator\n",
    "from pyspark.ml.evaluation import MulticlassClassificationEvaluator"
   ]
  },
  {
   "cell_type": "code",
   "execution_count": 22,
   "id": "b02ae108-8a02-468b-98f1-9afe4cfa95c4",
   "metadata": {},
   "outputs": [
    {
     "name": "stdout",
     "output_type": "stream",
     "text": [
      "+------+-----------+\n",
      "|   Sex|Sex_indexed|\n",
      "+------+-----------+\n",
      "|Female|        0.0|\n",
      "|Female|        0.0|\n",
      "|Female|        0.0|\n",
      "|Female|        0.0|\n",
      "|Female|        0.0|\n",
      "+------+-----------+\n",
      "only showing top 5 rows\n",
      "\n"
     ]
    }
   ],
   "source": [
    "df = df.drop(\"Sex_indexed\")\n",
    "indexer = StringIndexer(inputCol=\"Sex\", outputCol=\"Sex_indexed\")\n",
    "df = indexer.fit(df).transform(df)\n",
    "df.select(\"Sex\", \"Sex_indexed\").show(5)"
   ]
  },
  {
   "cell_type": "code",
   "execution_count": 23,
   "id": "f413cb39-3cc0-4e9e-9506-71876212cb24",
   "metadata": {},
   "outputs": [
    {
     "name": "stdout",
     "output_type": "stream",
     "text": [
      "+------+-----------+-------------+\n",
      "|   Sex|Sex_indexed|  Sex_encoded|\n",
      "+------+-----------+-------------+\n",
      "|Female|        0.0|(1,[0],[1.0])|\n",
      "|Female|        0.0|(1,[0],[1.0])|\n",
      "|Female|        0.0|(1,[0],[1.0])|\n",
      "|Female|        0.0|(1,[0],[1.0])|\n",
      "|Female|        0.0|(1,[0],[1.0])|\n",
      "+------+-----------+-------------+\n",
      "only showing top 5 rows\n",
      "\n"
     ]
    }
   ],
   "source": [
    "encoder = OneHotEncoder(inputCols=[\"Sex_indexed\"], outputCols=[\"Sex_encoded\"])\n",
    "df = encoder.fit(df).transform(df)\n",
    "df.select(\"Sex\", \"Sex_indexed\", \"Sex_encoded\").show(5)"
   ]
  },
  {
   "cell_type": "code",
   "execution_count": 24,
   "id": "91c3a433-0b18-4b04-b754-8498964edcca",
   "metadata": {},
   "outputs": [
    {
     "name": "stdout",
     "output_type": "stream",
     "text": [
      "Rows before drop: 253680, after drop: 253680\n"
     ]
    }
   ],
   "source": [
    "feature_columns = [\n",
    "  \"HighBP\", \"HighChol\", \"CholCheck\", \"BMI\", \"Smoker\", \"Stroke\",\n",
    "  \"HeartDiseaseorAttack\", \"PhysActivity\", \"Fruits\", \"Veggies\",\n",
    "  \"HvyAlcoholConsump\", \"AnyHealthcare\", \"NoDocbcCost\",\n",
    "  \"GenHlth\", \"MentHlth\", \"PhysHlth\", \"DiffWalk\", \n",
    "  \"Sex_encoded\",  \n",
    "  \"Age\", \"Education\", \"Income\"\n",
    "]\n",
    "\n",
    "count_before = df.count()\n",
    "df_clean = df.na.drop(subset=feature_columns)\n",
    "count_after = df_clean.count()\n",
    "print(f\"Rows before drop: {count_before}, after drop: {count_after}\")"
   ]
  },
  {
   "cell_type": "code",
   "execution_count": 25,
   "id": "f91aa343-1b0b-46ec-a84a-535cccb6f53b",
   "metadata": {},
   "outputs": [],
   "source": [
    "df_clean.createOrReplaceTempView(\"diabtes\")"
   ]
  },
  {
   "cell_type": "code",
   "execution_count": 26,
   "id": "2952bd04-30ee-4de7-bdf2-f7b4e65a63aa",
   "metadata": {},
   "outputs": [],
   "source": [
    "assembler = VectorAssembler(inputCols=feature_columns, outputCol=\"features\")\n",
    "df = assembler.transform(df)"
   ]
  },
  {
   "cell_type": "code",
   "execution_count": 27,
   "id": "b2baef0f-fa59-4b61-bdaf-fabef5ab2100",
   "metadata": {},
   "outputs": [],
   "source": [
    "df = df.withColumnRenamed(\"Diabetes_012\", \"label\")"
   ]
  },
  {
   "cell_type": "code",
   "execution_count": 28,
   "id": "713f9504-0f8a-429c-bdbd-97405395ed65",
   "metadata": {},
   "outputs": [],
   "source": [
    "train_data, test_data = df.randomSplit([0.8, 0.2], seed=42)"
   ]
  },
  {
   "cell_type": "code",
   "execution_count": 29,
   "id": "13f5226f-f469-495d-a677-b41a8c62341c",
   "metadata": {},
   "outputs": [
    {
     "name": "stdout",
     "output_type": "stream",
     "text": [
      "+-----+------+\n",
      "|label| count|\n",
      "+-----+------+\n",
      "|  0.0|213703|\n",
      "|  1.0|  4631|\n",
      "|  2.0| 35346|\n",
      "+-----+------+\n",
      "\n"
     ]
    }
   ],
   "source": [
    "df.groupBy(\"label\").count().show()\n"
   ]
  },
  {
   "cell_type": "code",
   "execution_count": 30,
   "id": "6999ac13-8c70-4a68-974f-319b25349aa6",
   "metadata": {},
   "outputs": [],
   "source": [
    "rf = RandomForestClassifier(labelCol=\"label\", featuresCol=\"features\", numTrees=100)\n",
    "rf_model = rf.fit(train_data)"
   ]
  },
  {
   "cell_type": "code",
   "execution_count": 31,
   "id": "8f5153da-8ce9-4c19-b0c6-9dcfd75504fb",
   "metadata": {},
   "outputs": [
    {
     "name": "stdout",
     "output_type": "stream",
     "text": [
      "+----------+-----+--------------------+\n",
      "|prediction|label|         probability|\n",
      "+----------+-----+--------------------+\n",
      "|       0.0|  0.0|[0.90098556989969...|\n",
      "|       0.0|  0.0|[0.87592948297578...|\n",
      "|       0.0|  0.0|[0.90266879696500...|\n",
      "|       0.0|  0.0|[0.89541140263714...|\n",
      "|       0.0|  0.0|[0.87441903353843...|\n",
      "+----------+-----+--------------------+\n",
      "only showing top 5 rows\n",
      "\n"
     ]
    }
   ],
   "source": [
    "predictions = rf_model.transform(test_data)\n",
    "predictions.select(\"prediction\", \"label\", \"probability\").show(5)"
   ]
  },
  {
   "cell_type": "code",
   "execution_count": 32,
   "id": "a6215b1f-7e90-451a-b27d-490bd16c8a7b",
   "metadata": {},
   "outputs": [
    {
     "name": "stdout",
     "output_type": "stream",
     "text": [
      "Accuracy: 0.843863672307449\n"
     ]
    }
   ],
   "source": [
    "evaluator = MulticlassClassificationEvaluator(labelCol=\"label\", predictionCol=\"prediction\", metricName=\"accuracy\")\n",
    "accuracy = evaluator.evaluate(predictions)\n",
    "print(f\"Accuracy: {accuracy}\")"
   ]
  },
  {
   "cell_type": "code",
   "execution_count": 33,
   "id": "104235d7-e599-4183-8e91-b0244c90a3b5",
   "metadata": {},
   "outputs": [
    {
     "name": "stdout",
     "output_type": "stream",
     "text": [
      "F1 Score: 0.7728724407618908\n"
     ]
    }
   ],
   "source": [
    "evaluator_f1 = MulticlassClassificationEvaluator(labelCol=\"label\", predictionCol=\"prediction\", metricName=\"f1\")\n",
    "f1_score = evaluator_f1.evaluate(predictions)\n",
    "print(f\"F1 Score: {f1_score}\")"
   ]
  },
  {
   "cell_type": "code",
   "execution_count": 34,
   "id": "4220e507-e596-4819-aca1-7b4a244f0acc",
   "metadata": {},
   "outputs": [
    {
     "name": "stdout",
     "output_type": "stream",
     "text": [
      "Precision: 0.8212122326834389\n"
     ]
    }
   ],
   "source": [
    "evaluator_precision = MulticlassClassificationEvaluator(labelCol=\"label\", predictionCol=\"prediction\", metricName=\"weightedPrecision\")\n",
    "precision = evaluator_precision.evaluate(predictions)\n",
    "print(f\"Precision: {precision}\")"
   ]
  },
  {
   "cell_type": "code",
   "execution_count": 35,
   "id": "d7599a22-c207-4411-8cf9-513c455af9b8",
   "metadata": {},
   "outputs": [
    {
     "name": "stdout",
     "output_type": "stream",
     "text": [
      "Recall: 0.843863672307449\n"
     ]
    }
   ],
   "source": [
    "evaluator_recall = MulticlassClassificationEvaluator(labelCol=\"label\", predictionCol=\"prediction\", metricName=\"weightedRecall\")\n",
    "recall = evaluator_recall.evaluate(predictions)\n",
    "print(f\"Recall: {recall}\")"
   ]
  },
  {
   "cell_type": "code",
   "execution_count": 36,
   "id": "ca2cbe7a-1afe-4dd2-a7d8-590a9c415578",
   "metadata": {},
   "outputs": [],
   "source": [
    "from pyspark.ml.regression import LinearRegression"
   ]
  },
  {
   "cell_type": "code",
   "execution_count": 37,
   "id": "e91b9d9f-549f-4cb4-8394-07487468416a",
   "metadata": {},
   "outputs": [],
   "source": [
    "lr = LinearRegression(featuresCol=\"features\", labelCol= \"label\")\n",
    "lr_model = lr.fit(train_data)"
   ]
  },
  {
   "cell_type": "code",
   "execution_count": 40,
   "id": "167e78f7-643d-412e-bbc7-9ef7d0cf83a4",
   "metadata": {},
   "outputs": [],
   "source": [
    "df = df.filter(df[\"label\"].isin([0.0, 1.0]))"
   ]
  },
  {
   "cell_type": "code",
   "execution_count": 43,
   "id": "b83441eb-66a8-42e9-855a-0185ce3ac5b5",
   "metadata": {},
   "outputs": [],
   "source": [
    "from pyspark.ml.regression import GBTRegressor"
   ]
  },
  {
   "cell_type": "code",
   "execution_count": 44,
   "id": "7aa65c16-199d-45ce-8810-228373d4a24b",
   "metadata": {},
   "outputs": [],
   "source": [
    "gbt = GBTRegressor(labelCol=\"label\", featuresCol=\"features\")\n",
    "gbt_model = gbt.fit(train_data)\n",
    "predictions = gbt_model.transform(test_data)"
   ]
  },
  {
   "cell_type": "code",
   "execution_count": 45,
   "id": "5566bc8d-371f-4337-af35-93dec3da4359",
   "metadata": {},
   "outputs": [
    {
     "name": "stdout",
     "output_type": "stream",
     "text": [
      "+--------------------+-----+--------------------+\n",
      "|            features|label|          prediction|\n",
      "+--------------------+-----+--------------------+\n",
      "|(21,[3,4,7,11,13,...|  0.0|0.013634030970582403|\n",
      "|(21,[3,7,9,11,13,...|  0.0| 0.04746149797014129|\n",
      "|(21,[3,7,8,9,11,1...|  0.0|-0.00566763978581...|\n",
      "|(21,[3,4,7,8,9,12...|  0.0|0.021622534345575994|\n",
      "|(21,[3,7,8,9,11,1...|  0.0| 0.04595596035564019|\n",
      "+--------------------+-----+--------------------+\n",
      "only showing top 5 rows\n",
      "\n"
     ]
    }
   ],
   "source": [
    "gbt_pred = gbt_model.transform(test_data)\n",
    "gbt_pred.select(\"features\", \"label\", \"prediction\").show(5)"
   ]
  },
  {
   "cell_type": "code",
   "execution_count": 55,
   "id": "ee96f208-0939-4333-a76a-b114a8b161ed",
   "metadata": {},
   "outputs": [],
   "source": [
    "from pyspark.ml.evaluation import RegressionEvaluator"
   ]
  },
  {
   "cell_type": "code",
   "execution_count": 56,
   "id": "670f8884-9444-4383-a105-cd055e64ff64",
   "metadata": {},
   "outputs": [],
   "source": [
    "evaluator_rmse = RegressionEvaluator(labelCol=\"label\", predictionCol=\"prediction\", metricName=\"rmse\")\n"
   ]
  },
  {
   "cell_type": "code",
   "execution_count": 57,
   "id": "cba7e5e0-24de-4366-a3e0-4ad4d3f6f3a9",
   "metadata": {},
   "outputs": [],
   "source": [
    "evaluator_mae = RegressionEvaluator(labelCol=\"label\", predictionCol=\"prediction\", metricName=\"mae\")\n"
   ]
  },
  {
   "cell_type": "code",
   "execution_count": 58,
   "id": "e6262273-60ae-45d6-9a7b-987c46cd58cc",
   "metadata": {},
   "outputs": [],
   "source": [
    "evaluator_r2 = RegressionEvaluator(labelCol=\"label\", predictionCol=\"prediction\", metricName=\"r2\")\n"
   ]
  },
  {
   "cell_type": "code",
   "execution_count": 59,
   "id": "00578fed-a2f9-4cf0-adf4-9f591c627ced",
   "metadata": {},
   "outputs": [],
   "source": [
    "rmse = evaluator_rmse.evaluate(predictions)\n"
   ]
  },
  {
   "cell_type": "code",
   "execution_count": 60,
   "id": "054e6e3b-032a-4a7f-812c-a298a47c541f",
   "metadata": {},
   "outputs": [],
   "source": [
    "mae = evaluator_mae.evaluate(predictions)\n"
   ]
  },
  {
   "cell_type": "code",
   "execution_count": 64,
   "id": "4c4daca0-2137-4632-8e92-dee79ff63dbd",
   "metadata": {},
   "outputs": [],
   "source": [
    "r2 = evaluator_r2.evaluate(predictions)"
   ]
  },
  {
   "cell_type": "code",
   "execution_count": 65,
   "id": "28fbc3dd-c4da-4e4b-8958-09936f136cde",
   "metadata": {},
   "outputs": [
    {
     "name": "stdout",
     "output_type": "stream",
     "text": [
      "RMSE     : 0.6244\n"
     ]
    }
   ],
   "source": [
    "print(f\"RMSE     : {rmse:.4f}\")"
   ]
  },
  {
   "cell_type": "code",
   "execution_count": 66,
   "id": "4ca31ff5-1dd5-407b-999b-85d0b4e9a1d9",
   "metadata": {},
   "outputs": [
    {
     "name": "stdout",
     "output_type": "stream",
     "text": [
      "MAE      : 0.3987\n"
     ]
    }
   ],
   "source": [
    "print(f\"MAE      : {mae:.4f}\")"
   ]
  },
  {
   "cell_type": "code",
   "execution_count": 67,
   "id": "b6872d7c-1cf9-4c2b-b309-61823c57e821",
   "metadata": {},
   "outputs": [
    {
     "name": "stdout",
     "output_type": "stream",
     "text": [
      "R² Score : 0.1944\n"
     ]
    }
   ],
   "source": [
    "print(f\"R² Score : {r2:.4f}\")"
   ]
  },
  {
   "cell_type": "code",
   "execution_count": 68,
   "id": "e4245527-8558-4bdc-8e7c-98530598b00e",
   "metadata": {},
   "outputs": [
    {
     "name": "stdout",
     "output_type": "stream",
     "text": [
      "+-----+------+\n",
      "|label| count|\n",
      "+-----+------+\n",
      "|  0.0|213703|\n",
      "|  1.0|  4631|\n",
      "+-----+------+\n",
      "\n"
     ]
    }
   ],
   "source": [
    "df.groupBy(\"label\").count().show()"
   ]
  },
  {
   "cell_type": "code",
   "execution_count": 69,
   "id": "aa564609-b196-4b89-8967-90407a53d5fa",
   "metadata": {},
   "outputs": [
    {
     "name": "stdout",
     "output_type": "stream",
     "text": [
      "+-----+------+--------+---------+----+------+------+--------------------+------------+------+-------+-----------------+-------------+-----------+-------+--------+--------+--------+------+----+---------+------+-----------+-------------+--------------------+--------------------+\n",
      "|label|HighBP|HighChol|CholCheck| BMI|Smoker|Stroke|HeartDiseaseorAttack|PhysActivity|Fruits|Veggies|HvyAlcoholConsump|AnyHealthcare|NoDocbcCost|GenHlth|MentHlth|PhysHlth|DiffWalk|   Sex| Age|Education|Income|Sex_indexed|  Sex_encoded|            features|          prediction|\n",
      "+-----+------+--------+---------+----+------+------+--------------------+------------+------+-------+-----------------+-------------+-----------+-------+--------+--------+--------+------+----+---------+------+-----------+-------------+--------------------+--------------------+\n",
      "|  0.0|   0.0|     0.0|      0.0|16.0|   1.0|   0.0|                 0.0|         1.0|   0.0|    0.0|              0.0|          1.0|        0.0|    2.0|     5.0|     0.0|     0.0|  Male| 5.0|      6.0|   8.0|        1.0|    (1,[],[])|(21,[3,4,7,11,13,...|0.013634030970582403|\n",
      "|  0.0|   0.0|     0.0|      0.0|17.0|   0.0|   0.0|                 0.0|         1.0|   0.0|    1.0|              0.0|          1.0|        0.0|    3.0|     0.0|     0.0|     0.0|  Male| 9.0|      6.0|   1.0|        1.0|    (1,[],[])|(21,[3,7,9,11,13,...| 0.04746149797014129|\n",
      "|  0.0|   0.0|     0.0|      0.0|17.0|   0.0|   0.0|                 0.0|         1.0|   1.0|    1.0|              0.0|          1.0|        0.0|    1.0|     0.0|     0.0|     0.0|Female| 4.0|      6.0|   8.0|        0.0|(1,[0],[1.0])|(21,[3,7,8,9,11,1...|-0.00566763978581...|\n",
      "|  0.0|   0.0|     0.0|      0.0|17.0|   1.0|   0.0|                 0.0|         1.0|   1.0|    1.0|              0.0|          0.0|        1.0|    2.0|     5.0|     0.0|     0.0|Female| 7.0|      4.0|   3.0|        0.0|(1,[0],[1.0])|(21,[3,4,7,8,9,12...|0.021622534345575994|\n",
      "|  0.0|   0.0|     0.0|      0.0|18.0|   0.0|   0.0|                 0.0|         1.0|   1.0|    1.0|              0.0|          1.0|        0.0|    3.0|     0.0|     0.0|     0.0|  Male|10.0|      2.0|   4.0|        1.0|    (1,[],[])|(21,[3,7,8,9,11,1...| 0.04595596035564019|\n",
      "+-----+------+--------+---------+----+------+------+--------------------+------------+------+-------+-----------------+-------------+-----------+-------+--------+--------+--------+------+----+---------+------+-----------+-------------+--------------------+--------------------+\n",
      "only showing top 5 rows\n",
      "\n"
     ]
    }
   ],
   "source": [
    "predictions.show(5)"
   ]
  },
  {
   "cell_type": "code",
   "execution_count": 72,
   "id": "d063e120-afe7-43a3-be64-a13d8db9cb55",
   "metadata": {},
   "outputs": [],
   "source": [
    "output_df = predictions.select(\"label\", \"prediction\", \"MentHlth\", \"BMI\", \"Age\", \"Income\",\"Sex\")\n",
    "output_df.write.csv(\"diabetes_prediction.csv\", header=True, mode=\"overwrite\")"
   ]
  },
  {
   "cell_type": "code",
   "execution_count": null,
   "id": "1665eb15-af09-44c3-a74a-be6df755ebdc",
   "metadata": {},
   "outputs": [],
   "source": []
  }
 ],
 "metadata": {
  "kernelspec": {
   "display_name": "base",
   "language": "python",
   "name": "python3"
  },
  "language_info": {
   "codemirror_mode": {
    "name": "ipython",
    "version": 3
   },
   "file_extension": ".py",
   "mimetype": "text/x-python",
   "name": "python",
   "nbconvert_exporter": "python",
   "pygments_lexer": "ipython3",
   "version": "3.12.3"
  }
 },
 "nbformat": 4,
 "nbformat_minor": 5
}
